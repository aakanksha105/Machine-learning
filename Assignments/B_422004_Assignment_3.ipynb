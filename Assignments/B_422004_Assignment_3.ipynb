{
  "nbformat": 4,
  "nbformat_minor": 0,
  "metadata": {
    "colab": {
      "name": "Assignment_3.ipynb",
      "provenance": [],
      "collapsed_sections": []
    },
    "kernelspec": {
      "name": "python3",
      "display_name": "Python 3"
    },
    "language_info": {
      "name": "python"
    }
  },
  "cells": [
    {
      "cell_type": "code",
      "execution_count": 1,
      "metadata": {
        "id": "rt22pGiZXOfL"
      },
      "outputs": [],
      "source": [
        "import numpy as np\n",
        "import pandas \n",
        "import matplotlib.pyplot as plt"
      ]
    },
    {
      "cell_type": "code",
      "source": [
        "p1=[2,4]\n",
        "p2=[4,2]\n",
        "p3=[4,4]\n",
        "p4=[4,6]\n",
        "p5=[6,2]\n",
        "p6=[6,4]\n",
        "x=[p1,p2,p3,p4,p5,p6]\n",
        "y=[0,0,1,0,1,0]  #  0=negative 1=positive class"
      ],
      "metadata": {
        "id": "9VKG9SmucXz0"
      },
      "execution_count": 2,
      "outputs": []
    },
    {
      "cell_type": "code",
      "source": [
        "from sklearn.neighbors import KNeighborsClassifier"
      ],
      "metadata": {
        "id": "vhZuk4QNcbFe"
      },
      "execution_count": 3,
      "outputs": []
    },
    {
      "cell_type": "code",
      "source": [
        "classifier=KNeighborsClassifier(n_neighbors=3,p=2, metric='minkowski')\n",
        "classifier.fit(x,y)"
      ],
      "metadata": {
        "colab": {
          "base_uri": "https://localhost:8080/"
        },
        "id": "5RSF0kWLcbjH",
        "outputId": "ae3cf80f-69c5-4967-a0f4-3534b64ce478"
      },
      "execution_count": 4,
      "outputs": [
        {
          "output_type": "execute_result",
          "data": {
            "text/plain": [
              "KNeighborsClassifier(n_neighbors=3)"
            ]
          },
          "metadata": {},
          "execution_count": 4
        }
      ]
    },
    {
      "cell_type": "code",
      "source": [
        "x_pred=np.array([6,6])\n",
        "y_pred=classifier.predict(x_pred.reshape(1,-1))"
      ],
      "metadata": {
        "id": "TfsWM-HmcdC1"
      },
      "execution_count": 5,
      "outputs": []
    },
    {
      "cell_type": "code",
      "source": [
        "plt.scatter(p1[0],p1[1],c='orange',marker='s')\n",
        "plt.scatter(p2[0],p2[1],c='orange',marker='s')\n",
        "plt.scatter(p3[0],p3[1],c='blue')\n",
        "plt.scatter(p4[0],p4[1],c='orange',marker='s')\n",
        "plt.scatter(p5[0],p5[1],c='blue')\n",
        "plt.scatter(p6[0],p6[1],c='orange',marker='s')\n",
        "if(y_pred==0):\n",
        "  color='orange'\n",
        "  marker='s'\n",
        "else:\n",
        "  color='blue'\n",
        "  marker='.'\n",
        "plt.scatter(x_pred[0],x_pred[1],c=color,marker=marker,s=400)"
      ],
      "metadata": {
        "colab": {
          "base_uri": "https://localhost:8080/",
          "height": 284
        },
        "id": "5t6USLZ9cew-",
        "outputId": "f50f94d9-e957-4901-9fa9-b956b9215b65"
      },
      "execution_count": 6,
      "outputs": [
        {
          "output_type": "execute_result",
          "data": {
            "text/plain": [
              "<matplotlib.collections.PathCollection at 0x7f2714654510>"
            ]
          },
          "metadata": {},
          "execution_count": 6
        },
        {
          "output_type": "display_data",
          "data": {
            "image/png": "[encoded data removed]",
            "text/plain": [
              "<Figure size 432x288 with 1 Axes>"
            ]
          },
          "metadata": {
            "needs_background": "light"
          }
        }
      ]
    },
    {
      "cell_type": "markdown",
      "source": [
        "Class of point[6, 6] is Orange i.e., Negative\n",
        "\n"
      ],
      "metadata": {
        "id": "eaViq5BsckaL"
      }
    }
  ]
}